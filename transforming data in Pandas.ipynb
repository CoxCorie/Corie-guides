{
 "cells": [
  {
   "cell_type": "code",
   "execution_count": 1,
   "metadata": {
    "collapsed": true
   },
   "outputs": [],
   "source": [
    "import pandas as pd\n",
    "from pandas import Series,DataFrame,ExcelWriter\n",
    "import requests\n",
    "import re\n",
    "import io\n",
    "import datetime as dt\n",
    "\n",
    "import sys\n",
    "default_stdout = sys.stdout\n",
    "default_stderr = sys.stderr\n",
    "reload(sys)\n",
    "sys.stdout = default_stdout\n",
    "sys.stderr = default_stderr\n",
    "sys.setdefaultencoding('utf-8')\n",
    "\n",
    "#useful docs for pandas\n",
    "#http://pandas.pydata.org/pandas-docs/stable/comparison_with_sql.html"
   ]
  },
  {
   "cell_type": "code",
   "execution_count": 2,
   "metadata": {
    "collapsed": false
   },
   "outputs": [],
   "source": [
    "def scrape_irad_data(start_dt, end_dt, report_number):\n",
    "#scarpes irad data\n",
    "#input data formats:\n",
    "    #start_dt, end_dt like 7/1/2016 \n",
    "    import pandas as pd\n",
    "    import requests\n",
    "    import re\n",
    "\n",
    "    if report_number == 131:\n",
    "        report_name = '###'\n",
    "        report_session_url = 'https://irad.ilshealth.com/Report.aspx?From=%s&To=%s&RC=/%s.aspx&AgencyID=45' % (start_dt, end_dt, report_name) \n",
    "    elif report_number == 182:\n",
    "        report_name = '###'\n",
    "        report_session_url = 'https://irad.ilshealth.com/Report.aspx?FromDate=%s&ToDate=%s&RC=/%s.aspx&AgencyID=45&MemberStatus=ALL' % (start_dt, end_dt, report_name)\n",
    "    elif report_number == 215:\n",
    "        report_name = '###'\n",
    "        report_session_url = 'https://irad.ilshealth.com/Report.aspx?From=%s&To=%s&RC=/%s.aspx&AgencyID=45&ProgramType=5' % (start_dt, end_dt, report_name)\n",
    "    elif report_number == 274:\n",
    "        report_name = '###'\n",
    "        report_session_url = 'https://irad.ilshealth.com/Report.aspx?From=%s&To=%s&RC=/%s.aspx&AgencyID=45' % (start_dt, end_dt, report_name)\n",
    "    elif report_number == '011':\n",
    "        report_name = '###'\n",
    "        report_session_url = 'https://irad.ilshealth.com/Report.aspx?RC=/%s.aspx&AgencyID=45' % (report_name)\n",
    "    else:\n",
    "        raise ValueError('Parameter is not valid')\n",
    "        \n",
    "        \n",
    "    with requests.Session() as s:\n",
    "        login_url = 'https://irad.ilshealth.com/Login.aspx'\n",
    "        login_html = s.get(login_url, verify=False)\n",
    "\n",
    "        viewstate_regex = '(?:<input type=\"hidden\" name=\"__VIEWSTATE\" id=\"__VIEWSTATE\" value=\")(.*?)(?:\" \\/>)'\n",
    "        viewstate = re.findall(viewstate_regex, login_html.text)[0]\n",
    "        eventvalidation_regex = '(?:<input type=\"hidden\" name=\"__EVENTVALIDATION\" id=\"__EVENTVALIDATION\" value=\")(.*?)(?:\" \\/>)'\n",
    "        eventvalidation = re.findall(eventvalidation_regex, login_html.text)[0]\n",
    "\n",
    "        payload = {\n",
    "        'txtUser': '####',\n",
    "        'txtPassword': '####',\n",
    "        'btnLogin': 'Login',\n",
    "        '__VIEWSTATE': viewstate,\n",
    "        '__EVENTVALIDATION':eventvalidation\n",
    "        }\n",
    "        p = s.post(login_url, data=payload,  verify=False)\n",
    "\n",
    "        report_session_html = s.get(report_session_url, verify=False)\n",
    "        ReportSession_regex = '(?:ReportSession=)(.*?)(?:&)'\n",
    "        ReportSession = re.findall(ReportSession_regex, report_session_html.text)[0]\n",
    "        ControlID_regex = '(?:ControlID=)(.*?)(?:&)'\n",
    "        ControlID = re.findall(ControlID_regex, report_session_html.text)[0]\n",
    "        \n",
    "        report_url = '###' % (ReportSession, ControlID, report_name)\n",
    "        r = s.get(report_url, verify=False)\n",
    "    r = r.content.splitlines()[3:]\n",
    "    r = '\\n'.join(r).decode('utf-8')\n",
    "    return r"
   ]
  },
  {
   "cell_type": "code",
   "execution_count": null,
   "metadata": {
    "collapsed": true
   },
   "outputs": [],
   "source": [
    "#pulls irad report 011 - MLTC_Open_Auths\n",
    "d = scrape_irad_data('', '', '011')  \n",
    "cr = io.StringIO(d)\n",
    "df_irad = pd.read_csv(cr)\n",
    "\n",
    "time_fields = ['MemberTerminationDate', 'AuthTermDate']\n",
    "for field in time_fields:\n",
    "    df_irad[field] = pd.to_datetime(df_irad[field], errors='coerce')\n",
    "    \n",
    "irad_respites = df_irad[df_irad['cptCode'].isin(['T1005','S5150'])] #respites only\n",
    "irad_actives = irad_respites[(irad_respites['MemberTerminationDate'].isnull()) | (irad_respites['MemberTerminationDate'] >= dt.datetime.strptime(\"10/01/2016\",\"%m/%d/%Y\"))] #active members\n",
    "irad_actives = irad_actives[(irad_actives['AuthTermDate'].isnull()) | (irad_actives['AuthTermDate'] >= dt.datetime.strptime(\"10/01/2016\",\"%m/%d/%Y\"))] #active auths\n",
    "irad_actives = irad_actives[irad_respites['Voided'] == 'No']\n",
    "irad_actives.loc[irad_actives.cptCode == 'S5150', 'Units'] = irad_actives.Units[irad_actives.cptCode == 'S5150']/4 #converts 15min to 1hr unit\n",
    "irad_trimmed = irad_actives[['MemberName', 'PlanID', 'Medicaid', 'cptCode', 'Units']]\n",
    "irad_trimmed =irad_trimmed.rename(columns = {'Units':'hours_authed'})"
   ]
  },
  {
   "cell_type": "code",
   "execution_count": null,
   "metadata": {
    "collapsed": true
   },
   "outputs": [],
   "source": [
    "#access DB from PPL saved as CSV \n",
    "cr = '####'\n",
    "df_PPL_claims = pd.read_csv(cr)\n",
    "\n",
    "df_PPL_claims = df_PPL_claims[df_PPL_claims['Service Code'] == 'S5150']\n",
    "df_PPL_claims = df_PPL_claims.groupby(['Member ID']).Units.sum()\n",
    "df_PPL_claims = pd.DataFrame({'Member ID':df_PPL_claims.index, 'hours claimed':df_PPL_claims.values})\n",
    "\n",
    "#claims as CSV\n",
    "cr = '####'\n",
    "df_T1005_claims = pd.read_csv(cr)\n",
    "df_T1005_claims.columns = ['Member ID', 'hours claimed']\n",
    "\n",
    "df_claims = pd.concat([df_T1005_claims, df_PPL_claims])"
   ]
  },
  {
   "cell_type": "code",
   "execution_count": null,
   "metadata": {
    "collapsed": true
   },
   "outputs": [],
   "source": [
    "df_final = pd.merge(irad_trimmed, df_claims, left_on='PlanID', right_on='Member ID', how='left')\n",
    "del df_final['Member ID']"
   ]
  },
  {
   "cell_type": "code",
   "execution_count": 6,
   "metadata": {
    "collapsed": true
   },
   "outputs": [],
   "source": [
    "writer = ExcelWriter('output.xlsx')\n",
    "df_final.to_excel(writer, index=False)\n",
    "writer.save()"
   ]
  }
 ],
 "metadata": {
  "anaconda-cloud": {},
  "kernelspec": {
   "display_name": "Python [Root]",
   "language": "python",
   "name": "Python [Root]"
  },
  "language_info": {
   "codemirror_mode": {
    "name": "ipython",
    "version": 2
   },
   "file_extension": ".py",
   "mimetype": "text/x-python",
   "name": "python",
   "nbconvert_exporter": "python",
   "pygments_lexer": "ipython2",
   "version": "2.7.12"
  }
 },
 "nbformat": 4,
 "nbformat_minor": 0
}
